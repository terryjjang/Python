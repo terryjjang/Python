{
  "metadata": {
    "kernelspec": {
      "name": "python",
      "display_name": "Python (Pyodide)",
      "language": "python"
    },
    "language_info": {
      "codemirror_mode": {
        "name": "python",
        "version": 3
      },
      "file_extension": ".py",
      "mimetype": "text/x-python",
      "name": "python",
      "nbconvert_exporter": "python",
      "pygments_lexer": "ipython3",
      "version": "3.8"
    }
  },
  "nbformat_minor": 5,
  "nbformat": 4,
  "cells": [
    {
      "id": "32d7ed49-b93c-4706-a5b5-b8f401fcabf4",
      "cell_type": "markdown",
      "source": "# Guided Project: Profitable App Profiles for the App Store and Google Play Markets",
      "metadata": {}
    },
    {
      "id": "38388af7-3775-4fce-be39-f84eaa1d2f06",
      "cell_type": "markdown",
      "source": "Analysis of free to download apps that have potential to generate advertisement revenue. \n\nGoal of this project is to help developers understand what type of apps are likely to attract users.",
      "metadata": {}
    },
    {
      "id": "ac3eb94d-4660-4dfc-8049-eaf540dec8dc",
      "cell_type": "markdown",
      "source": "## Opening and Exploring the Data",
      "metadata": {}
    },
    {
      "id": "840d53ef-6d88-4b59-9bc5-62aeadfa00ac",
      "cell_type": "markdown",
      "source": "In this project we examine two datasets:\n\n* [A dataset](https://www.kaggle.com/datasets/lava18/google-play-store-apps) containing data about approximately 10,000 Android apps from Google Play; the data was collected in August 2018. You can download the data set directly from [this link](https://dq-content.s3.amazonaws.com/350/googleplaystore.csv).\n\n* [A dataset](https://www.kaggle.com/datasets/ramamet4/app-store-apple-data-set-10k-apps) containing data about approximately 7,000 iOS apps from the App Store; the data was collected in July 2017. You can download the data set directly from [this link](https://dq-content.s3.amazonaws.com/350/AppleStore.csv).",
      "metadata": {}
    },
    {
      "id": "10cdbfed-320e-43e1-95ba-0aae7940c859",
      "cell_type": "markdown",
      "source": "First the two dataset are loaded and explored.",
      "metadata": {}
    },
    {
      "id": "8c47ee77-272c-48fb-81ad-72d9485c43f5",
      "cell_type": "code",
      "source": "from csv import reader\n\n### The Google Play dataset ###\nopened_file = open('data/googleplaystore.csv')\nread_file = reader(opened_file)\nandroid = list(read_file)\nandroid_header = android[0]\nandroid = android[1:]\n\n### The App Store dataset ###\nopened_file = open('data/AppleStore.csv')\nread_file = reader(opened_file)\nios = list(read_file)\nios_header = ios[0]\nios = ios[1:]",
      "metadata": {
        "trusted": true
      },
      "outputs": [],
      "execution_count": 1
    },
    {
      "id": "718f365a-0c2a-42d8-836b-8346254b1ca3",
      "cell_type": "markdown",
      "source": "Function to explore the dataset is created.",
      "metadata": {}
    },
    {
      "id": "256d4f69-7adc-48e1-ad0a-04a9ba4c9be1",
      "cell_type": "code",
      "source": "def explore_data(dataset, start, end, rows_and_columns=False):\n    dataset_slice = dataset[start:end]    \n    for row in dataset_slice:\n        print(row)\n        print('\\n') # adds a new (empty) line after each row\n\n    if rows_and_columns:\n        print('Number of rows:', len(dataset))\n        print('Number of columns:', len(dataset[0]))",
      "metadata": {
        "trusted": true
      },
      "outputs": [],
      "execution_count": 2
    },
    {
      "id": "04995651-2ff2-4f67-b274-48ea73071210",
      "cell_type": "markdown",
      "source": "Function is used to explore the Google data.",
      "metadata": {}
    },
    {
      "id": "4a5ce987-1d90-4c59-8177-8eef4b33025c",
      "cell_type": "code",
      "source": "print(android_header)\nprint(\"\\n\")\ngoogle_data = explore_data(android,0,3,True)\n",
      "metadata": {
        "trusted": true
      },
      "outputs": [
        {
          "name": "stdout",
          "output_type": "stream",
          "text": "['App', 'Category', 'Rating', 'Reviews', 'Size', 'Installs', 'Type', 'Price', 'Content Rating', 'Genres', 'Last Updated', 'Current Ver', 'Android Ver']\n\n\n['Photo Editor & Candy Camera & Grid & ScrapBook', 'ART_AND_DESIGN', '4.1', '159', '19M', '10,000+', 'Free', '0', 'Everyone', 'Art & Design', 'January 7, 2018', '1.0.0', '4.0.3 and up']\n\n\n['Coloring book moana', 'ART_AND_DESIGN', '3.9', '967', '14M', '500,000+', 'Free', '0', 'Everyone', 'Art & Design;Pretend Play', 'January 15, 2018', '2.0.0', '4.0.3 and up']\n\n\n['U Launcher Lite – FREE Live Cool Themes, Hide Apps', 'ART_AND_DESIGN', '4.7', '87510', '8.7M', '5,000,000+', 'Free', '0', 'Everyone', 'Art & Design', 'August 1, 2018', '1.2.4', '4.0.3 and up']\n\n\nNumber of rows: 10841\nNumber of columns: 13\n"
        }
      ],
      "execution_count": 3
    },
    {
      "id": "b372916c-27d1-463f-a6bb-de1478111ffc",
      "cell_type": "markdown",
      "source": "Function is used to explore the Apple data.",
      "metadata": {}
    },
    {
      "id": "d072f521-58c0-4cef-8ebb-ff6dfb71f0bd",
      "cell_type": "code",
      "source": "print(ios_header)\nprint(\"\\n\")\napple_data = explore_data(ios,0,3,True)",
      "metadata": {
        "trusted": true
      },
      "outputs": [
        {
          "name": "stdout",
          "output_type": "stream",
          "text": "['id', 'track_name', 'size_bytes', 'currency', 'price', 'rating_count_tot', 'rating_count_ver', 'user_rating', 'user_rating_ver', 'ver', 'cont_rating', 'prime_genre', 'sup_devices.num', 'ipadSc_urls.num', 'lang.num', 'vpp_lic']\n\n\n['284882215', 'Facebook', '389879808', 'USD', '0.0', '2974676', '212', '3.5', '3.5', '95.0', '4+', 'Social Networking', '37', '1', '29', '1']\n\n\n['389801252', 'Instagram', '113954816', 'USD', '0.0', '2161558', '1289', '4.5', '4.0', '10.23', '12+', 'Photo & Video', '37', '0', '29', '1']\n\n\n['529479190', 'Clash of Clans', '116476928', 'USD', '0.0', '2130805', '579', '4.5', '4.5', '9.24.12', '9+', 'Games', '38', '5', '18', '1']\n\n\nNumber of rows: 7197\nNumber of columns: 16\n"
        }
      ],
      "execution_count": 4
    },
    {
      "id": "6da1977b-7b35-45eb-bfc8-b196007946ee",
      "cell_type": "markdown",
      "source": "Examining the column names of both datasets, below columns may be of interest to us, in determining the characteristics of a popular app:\n\nAndroid Columns - App, Category, Rating, Reviews, Installs, Content Rating and Genre.\n\niOS Columns - track_name, rating_count_tot, user_rating, cont_rating and prime_genre. ",
      "metadata": {}
    },
    {
      "id": "21c403f4-8868-41f7-9455-7dfe813033c9",
      "cell_type": "markdown",
      "source": "## Deleting Wrong Data",
      "metadata": {}
    },
    {
      "id": "5efe7f37-7053-44d3-80b1-516f3995a9b7",
      "cell_type": "markdown",
      "source": "The Google Play dataset has a dedicated [discussion section](https://www.kaggle.com/datasets/lava18/google-play-store-apps/discussion), and we can see that [one of the discussions](https://www.kaggle.com/datasets/lava18/google-play-store-apps/discussion/66015) describes an error for a certain row.\n\nBelow we confirm the problem row by checking the length of the columns",
      "metadata": {}
    },
    {
      "id": "c3a4e88f-b854-4124-8455-ae91bdd9c142",
      "cell_type": "code",
      "source": "print(android_header)\nprint('\\n')\nprint(android[5])\nprint(len(android[5]))\nprint('\\n')\nprint(android[10472])\nprint(len(android[10472]))",
      "metadata": {
        "trusted": true
      },
      "outputs": [
        {
          "name": "stdout",
          "output_type": "stream",
          "text": "['App', 'Category', 'Rating', 'Reviews', 'Size', 'Installs', 'Type', 'Price', 'Content Rating', 'Genres', 'Last Updated', 'Current Ver', 'Android Ver']\n\n\n['Paper flowers instructions', 'ART_AND_DESIGN', '4.4', '167', '5.6M', '50,000+', 'Free', '0', 'Everyone', 'Art & Design', 'March 26, 2017', '1.0', '2.3 and up']\n13\n\n\n['Life Made WI-Fi Touchscreen Photo Frame', '1.9', '19', '3.0M', '1,000+', 'Free', '0', 'Everyone', '', 'February 11, 2018', '1.0.19', '4.0 and up']\n12\n"
        }
      ],
      "execution_count": 5
    },
    {
      "id": "95af79a7-7a31-4eaa-9ea1-58b3ad39e695",
      "cell_type": "markdown",
      "source": "As columns of row 10427 is only 12 versus 13 in a row that doesn't have issues, we delete the row 10427 to keep the data clean.",
      "metadata": {}
    },
    {
      "id": "84ee8760-c1a0-40db-8746-8b31ce9e7c5d",
      "cell_type": "code",
      "source": "google_data = explore_data(android,0,0,True)\ndel android[10472]\ngoogle_data = explore_data(android,0,0,True)\n",
      "metadata": {
        "trusted": true
      },
      "outputs": [
        {
          "name": "stdout",
          "output_type": "stream",
          "text": "Number of rows: 10841\nNumber of columns: 13\nNumber of rows: 10840\nNumber of columns: 13\n"
        }
      ],
      "execution_count": 6
    },
    {
      "id": "c0eedaf5-c3cc-443d-b2ea-a1fa5a6c3a6f",
      "cell_type": "markdown",
      "source": "For Apple data, we check for errors by comparing number of columns for each row",
      "metadata": {}
    },
    {
      "id": "9f13ef43-efc0-4c8b-89dd-945ccc1ea1c5",
      "cell_type": "code",
      "source": "for row in ios:\n    if len(row) != len(ios_header):\n        print(row) # print the row data\n        print(ios.index(row)) # print the row no.\n\nprint('No column variance detected')",
      "metadata": {
        "trusted": true
      },
      "outputs": [
        {
          "name": "stdout",
          "output_type": "stream",
          "text": "No column variance detected\n"
        }
      ],
      "execution_count": 7
    },
    {
      "id": "0636546a-e7ad-4134-be31-870eb93da423",
      "cell_type": "markdown",
      "source": "## Removing Duplicate Entries",
      "metadata": {}
    },
    {
      "id": "3aed70ca-549c-4399-b116-f37a0f05443f",
      "cell_type": "markdown",
      "source": "When we explore the datasets or look at the discussions section, it is evident there are duplicate apps within the data. Where there are total of 1,181 duplicate apps within the Android data.",
      "metadata": {}
    },
    {
      "id": "61f69a47-131f-44c1-9d79-5a0464bbb74d",
      "cell_type": "code",
      "source": "duplicate_apps = []\nunique_apps = []\n\nfor app in android:\n    name = app[0]\n    if name in unique_apps:\n        duplicate_apps.append(name)\n    else:\n        unique_apps.append(name)\n\nprint('Number of duplicate apps:', len(duplicate_apps))\nprint('\\n')\nprint('Examples of duplicate apps:', duplicate_apps[:15])\n\n",
      "metadata": {
        "trusted": true
      },
      "outputs": [
        {
          "name": "stdout",
          "output_type": "stream",
          "text": "Number of duplicate apps: 1181\n\n\nExamples of duplicate apps: ['Quick PDF Scanner + OCR FREE', 'Box', 'Google My Business', 'ZOOM Cloud Meetings', 'join.me - Simple Meetings', 'Box', 'Zenefits', 'Google Ads', 'Google My Business', 'Slack', 'FreshBooks Classic', 'Insightly CRM', 'QuickBooks Accounting: Invoicing & Expenses', 'HipChat - Chat Built for Teams', 'Xero Accounting Software']\n"
        }
      ],
      "execution_count": 8
    },
    {
      "id": "219f8597-01f6-4971-84c9-e98479c8f494",
      "cell_type": "markdown",
      "source": "Instead of removing duplicates randomly, we locate rows that have the highest number of reviews with assumption that this will be the most current data.",
      "metadata": {}
    },
    {
      "id": "788e339f-d4f1-4438-b845-e9b041dd8f22",
      "cell_type": "markdown",
      "source": "On the previous screen, we looped through the Google Play dataset and found that there are 1,181 duplicates. After we remove the duplicates, we should be left with 9,659 rows:",
      "metadata": {}
    },
    {
      "id": "581898a0-c365-4979-8a64-9aaccfd22658",
      "cell_type": "code",
      "source": "print('Expected length:', len(android) - 1181)",
      "metadata": {
        "trusted": true
      },
      "outputs": [
        {
          "name": "stdout",
          "output_type": "stream",
          "text": "Expected length: 9659\n"
        }
      ],
      "execution_count": 9
    },
    {
      "id": "d01174c8-d62a-406b-8cd6-1fb30f10fbd0",
      "cell_type": "markdown",
      "source": "To remove the duplicates, we will do the following:\n\n* Create a dictionary, where each dictionary key is a unique app name and the corresponding dictionary value is the highest number of reviews of that app.\n\n* Use the information stored in the dictionary and create a new dataset, which will have only one entry per app (and for each app, we'll only select the entry with the highest number of reviews).",
      "metadata": {}
    },
    {
      "id": "e1dd90d4-70e0-4618-b38b-b61ba8381096",
      "cell_type": "code",
      "source": "reviews_max ={}\n\nfor app in android:\n    name = app[0]\n    n_reviews = float(app[3])\n    \n    if name in reviews_max and reviews_max[name] < n_reviews:\n        reviews_max[name] = n_reviews\n    elif name not in reviews_max:\n        reviews_max[name] = n_reviews\n\nprint(f'Number of apps in reviews_max is {len(reviews_max)}' )\n",
      "metadata": {
        "trusted": true
      },
      "outputs": [
        {
          "name": "stdout",
          "output_type": "stream",
          "text": "Number of apps in reviews_max is 9659\n"
        }
      ],
      "execution_count": 10
    },
    {
      "id": "36238120-8d51-4446-8aa0-38fd50174bdd",
      "cell_type": "markdown",
      "source": "We use the reviews_max dictionary to remove duplicate rows, while leaving the entries with highest reviews.\n\nWe initialise two lists 'android_clean' and 'already_added'. \n\nWe loop through android data set and isolate name and number of reviews. We then check if number of reviews match the number in reviews_max dictionary and the name is not in 'already_added' list. This way we can isolate rows that have not been added and that have the highest reviews. The supplementary condition is also to remove any duplicate entries that have the same max review number. ",
      "metadata": {}
    },
    {
      "id": "65a0495f-6e8d-4272-affe-1400f3206eea",
      "cell_type": "code",
      "source": "android_clean = []\nalready_added = []\n\nfor app in android:\n    name = app[0]\n    n_reviews = float(app[3])\n\n    if n_reviews == reviews_max[name] and name not in already_added:\n        android_clean.append(app)\n        already_added.append(name)\n\nexplore_data(android_clean,0,3,True)",
      "metadata": {
        "trusted": true
      },
      "outputs": [
        {
          "name": "stdout",
          "output_type": "stream",
          "text": "['Photo Editor & Candy Camera & Grid & ScrapBook', 'ART_AND_DESIGN', '4.1', '159', '19M', '10,000+', 'Free', '0', 'Everyone', 'Art & Design', 'January 7, 2018', '1.0.0', '4.0.3 and up']\n\n\n['U Launcher Lite – FREE Live Cool Themes, Hide Apps', 'ART_AND_DESIGN', '4.7', '87510', '8.7M', '5,000,000+', 'Free', '0', 'Everyone', 'Art & Design', 'August 1, 2018', '1.2.4', '4.0.3 and up']\n\n\n['Sketch - Draw & Paint', 'ART_AND_DESIGN', '4.5', '215644', '25M', '50,000,000+', 'Free', '0', 'Teen', 'Art & Design', 'June 8, 2018', 'Varies with device', '4.2 and up']\n\n\nNumber of rows: 9659\nNumber of columns: 13\n"
        }
      ],
      "execution_count": 11
    },
    {
      "id": "f489770b-3bf1-4487-b065-3a040fabe483",
      "cell_type": "markdown",
      "source": "## Removing Non-English Apps",
      "metadata": {}
    },
    {
      "id": "f13073db-0fae-41da-b970-fec8cc85e461",
      "cell_type": "markdown",
      "source": "For App Store data there are no duplicates but they include Non-English apps which we are not interested in for this project. Similarly there are Non-English apps in the android data.",
      "metadata": {}
    },
    {
      "id": "81252ab2-4078-40e5-bcc0-c6e968c61978",
      "cell_type": "markdown",
      "source": "Here we use the ord() built-in function to deduce English texts which are in the ranges of 0 to 127. We'll write a function to help us achieve this.",
      "metadata": {}
    },
    {
      "id": "74f50b8f-1f18-4bd1-afdb-ce25ea8b8310",
      "cell_type": "code",
      "source": "def english_check(string):\n    for letters in string:\n        if ord(letters) > 127:\n            return False\n    return True\n\nprint(english_check('Instagram'))\nprint(english_check('爱奇艺PPS -《欢乐颂2》电视剧热播'))",
      "metadata": {
        "trusted": true
      },
      "outputs": [
        {
          "name": "stdout",
          "output_type": "stream",
          "text": "True\nFalse\n"
        }
      ],
      "execution_count": 12
    },
    {
      "id": "8048bcf8-9986-4388-a47a-d244fb21e8d2",
      "cell_type": "markdown",
      "source": "However we want to retain apps that have special characters such as symbols and emoji and as these can be English apps.",
      "metadata": {}
    },
    {
      "id": "be2cc12f-da36-4ee8-a409-1bd17f4bd3e3",
      "cell_type": "code",
      "source": "print(english_check('Docs To Go™ Free Office Suite'))\nprint(english_check('Instachat 😜'))\n\nprint(ord('™'))\nprint(ord('😜'))",
      "metadata": {
        "trusted": true
      },
      "outputs": [
        {
          "name": "stdout",
          "output_type": "stream",
          "text": "False\nFalse\n8482\n128540\n"
        }
      ],
      "execution_count": 13
    },
    {
      "id": "71918fe5-b11c-450f-aaa8-f98c48a8412d",
      "cell_type": "markdown",
      "source": "To minimize the impact of data loss, we'll only remove an app if its name has more than three characters with corresponding numbers falling outside the ASCII range. This means all English apps with up to three emoji or other special characters will still be labeled as English. Our filter function is still not perfect, but it should be fairly effective.\n\nLet's edit the function we created on the previous screen, and then use it to filter out the non-English apps.",
      "metadata": {}
    },
    {
      "id": "a3043b21-1d0e-4506-aa59-b3df1a069db5",
      "cell_type": "code",
      "source": "def english_check(string):\n    english_criteria = 0\n    \n    for letters in string:\n        if ord(letters) > 127:\n            english_criteria += 1\n\n    if english_criteria > 3:\n        return False\n    else: return True\n\nprint(english_check('Docs To Go™ Free Office Suite'))\nprint(english_check('Instachat 😜'))\nprint(english_check('爱奇艺PPS -《欢乐颂2》电视剧热播'))",
      "metadata": {
        "trusted": true
      },
      "outputs": [
        {
          "name": "stdout",
          "output_type": "stream",
          "text": "True\nTrue\nFalse\n"
        }
      ],
      "execution_count": 14
    },
    {
      "id": "52fea9a5-46e8-4e85-9f9c-a462e0e78203",
      "cell_type": "markdown",
      "source": "We now use the polished function to filter our non-English apps from both data sets.",
      "metadata": {}
    },
    {
      "id": "8efc7e1a-8aba-4144-8bb7-bc902c5e3789",
      "cell_type": "code",
      "source": "english_android = []\n\nfor app in android_clean:\n    name = app[0]\n    if english_check(name):\n        english_android.append(app)\n\nprint('Current number of apps in Android =' , len(android_clean))\nprint('Removing Non-English apps in Android =', len(english_android))",
      "metadata": {
        "trusted": true
      },
      "outputs": [
        {
          "name": "stdout",
          "output_type": "stream",
          "text": "Current number of apps in Android = 9659\nRemoving Non-English apps in Android = 9614\n"
        }
      ],
      "execution_count": 15
    },
    {
      "id": "8dc80a42-8004-4007-b6d0-8650b941ccd2",
      "cell_type": "code",
      "source": "english_ios = []\n\nfor app in ios:\n    name = app[1]\n    if english_check(name):\n        english_ios.append(app)\n\nprint('Current number of apps in Apple =' , len(ios))\nprint('Removing Non-English apps in Apple =', len(english_ios))",
      "metadata": {
        "trusted": true
      },
      "outputs": [
        {
          "name": "stdout",
          "output_type": "stream",
          "text": "Current number of apps in Apple = 7197\nRemoving Non-English apps in Apple = 6183\n"
        }
      ],
      "execution_count": 16
    },
    {
      "id": "bb96ff46-33c8-4e59-bd0e-67ea67232723",
      "cell_type": "markdown",
      "source": "## Isolating the Free Apps",
      "metadata": {}
    },
    {
      "id": "1a9a5cb2-2d9c-4aa7-9077-432d88dd6f94",
      "cell_type": "markdown",
      "source": "So far in the data cleaning process, we've done the following:\n\n* Removed inaccurate data\n* Removed duplicate app entries\n* Removed non-English apps\n\nNow we will be isolating Free Appls only.",
      "metadata": {}
    },
    {
      "id": "3078b6fe-e139-4153-8475-58780d699a9c",
      "cell_type": "code",
      "source": "android_final = []\nios_final = []\n\nfor app in english_android:\n    price = app[7]\n    if price == '0':\n        android_final.append(app)\n        \nfor app in english_ios:\n    price = app[4]\n    if price == '0.0':\n        ios_final.append(app)\n        \nprint('Number of Android Apps =', len(android_final))\nprint('Number of iOS Apps =', len(ios_final))",
      "metadata": {
        "trusted": true
      },
      "outputs": [
        {
          "name": "stdout",
          "output_type": "stream",
          "text": "Number of Android Apps = 8864\nNumber of iOS Apps = 3222\n"
        }
      ],
      "execution_count": 17
    },
    {
      "id": "09199e0a-bebb-446d-bd6c-abdb41b90ded",
      "cell_type": "markdown",
      "source": "## Analysis: Most common Apps by Genre",
      "metadata": {}
    },
    {
      "id": "d3818ce8-ca1f-4e04-945c-47d72f593880",
      "cell_type": "markdown",
      "source": "As we mentioned in the introduction, our goal is to determine the kinds of apps that are likely to attract more users because the number of people using our apps affect our revenue.\n\nTo minimize risks and overhead, our validation strategy for an app idea has three steps:\n\n* Build a minimal Android version of the app, and add it to Google Play.\n* If the app has a good response from users, we develop it further.\n* If the app is profitable after six months, we build an iOS version of the app and add it to the App Store.\n\nBecause our end goal is to add the app on both Google Play and the App Store, we need to find app profiles that are successful in both markets. For instance, a profile that works well for both markets might be a productivity app that makes use of gamification.\n\nLet's begin the analysis by determining the most common genres for each market. For this, we'll build a frequency table for the prime_genre column of the App Store data set, and the Genres and Category columns of the Google Play data set.",
      "metadata": {}
    },
    {
      "id": "07aa5fdc-b1f4-4fd5-876f-4635e24753d2",
      "cell_type": "markdown",
      "source": "We create a function named freq_table() that takes in two inputs: dataset (which will be a list of lists) and index (which will be an integer).\n\nThe function should return the frequency table (as a dictionary) for any column we want. The frequencies should also be expressed as percentages.",
      "metadata": {}
    },
    {
      "id": "774c1eca-3f31-45a8-92e8-b6f4526d4549",
      "cell_type": "code",
      "source": "def freq_table(dataset, index):\n    frequency = {}\n    total = 0\n\n    for row in dataset:\n        total += 1\n        value = row[index]\n        \n        if value in frequency:\n            frequency[value] += 1\n        else:\n            frequency[value] = 1\n\n    frequency_percentages = {}\n    for key in frequency:\n        percentage = (frequency[key] / total) * 100\n        frequency_percentages[key] = percentage \n    \n    return frequency_percentages\n\nfreq_table(android_final,9)\n\n    ",
      "metadata": {
        "trusted": true
      },
      "outputs": [
        {
          "execution_count": 18,
          "output_type": "execute_result",
          "data": {
            "text/plain": "{'Art & Design': 0.5979241877256317,\n 'Art & Design;Creativity': 0.06768953068592057,\n 'Auto & Vehicles': 0.9250902527075812,\n 'Beauty': 0.5979241877256317,\n 'Books & Reference': 2.1435018050541514,\n 'Business': 4.591606498194946,\n 'Comics': 0.6092057761732852,\n 'Comics;Creativity': 0.01128158844765343,\n 'Communication': 3.2378158844765346,\n 'Dating': 1.861462093862816,\n 'Education': 5.347472924187725,\n 'Education;Creativity': 0.04512635379061372,\n 'Education;Education': 0.33844765342960287,\n 'Education;Pretend Play': 0.056407942238267145,\n 'Education;Brain Games': 0.033844765342960284,\n 'Entertainment': 6.069494584837545,\n 'Entertainment;Brain Games': 0.078971119133574,\n 'Entertainment;Creativity': 0.033844765342960284,\n 'Entertainment;Music & Video': 0.16922382671480143,\n 'Events': 0.7107400722021661,\n 'Finance': 3.7003610108303246,\n 'Food & Drink': 1.2409747292418771,\n 'Health & Fitness': 3.0798736462093865,\n 'House & Home': 0.8235559566787004,\n 'Libraries & Demo': 0.9363718411552346,\n 'Lifestyle': 3.892148014440433,\n 'Lifestyle;Pretend Play': 0.01128158844765343,\n 'Card': 0.45126353790613716,\n 'Arcade': 1.8501805054151623,\n 'Puzzle': 1.128158844765343,\n 'Racing': 0.9927797833935018,\n 'Sports': 3.463447653429603,\n 'Casual': 1.7599277978339352,\n 'Simulation': 2.0419675090252705,\n 'Adventure': 0.6768953068592057,\n 'Trivia': 0.41741877256317694,\n 'Action': 3.1024368231046933,\n 'Word': 0.2594765342960289,\n 'Role Playing': 0.9363718411552346,\n 'Strategy': 0.9138086642599278,\n 'Board': 0.3835740072202166,\n 'Music': 0.2030685920577617,\n 'Action;Action & Adventure': 0.10153429602888085,\n 'Casual;Brain Games': 0.13537906137184114,\n 'Educational;Creativity': 0.033844765342960284,\n 'Puzzle;Brain Games': 0.16922382671480143,\n 'Educational;Education': 0.39485559566787,\n 'Casual;Pretend Play': 0.236913357400722,\n 'Educational;Brain Games': 0.06768953068592057,\n 'Art & Design;Pretend Play': 0.01128158844765343,\n 'Educational;Pretend Play': 0.09025270758122744,\n 'Entertainment;Education': 0.01128158844765343,\n 'Casual;Education': 0.02256317689530686,\n 'Casual;Creativity': 0.06768953068592057,\n 'Casual;Action & Adventure': 0.13537906137184114,\n 'Music;Music & Video': 0.02256317689530686,\n 'Arcade;Pretend Play': 0.01128158844765343,\n 'Adventure;Action & Adventure': 0.033844765342960284,\n 'Role Playing;Action & Adventure': 0.033844765342960284,\n 'Simulation;Pretend Play': 0.02256317689530686,\n 'Puzzle;Creativity': 0.02256317689530686,\n 'Simulation;Action & Adventure': 0.078971119133574,\n 'Racing;Action & Adventure': 0.16922382671480143,\n 'Sports;Action & Adventure': 0.02256317689530686,\n 'Educational;Action & Adventure': 0.033844765342960284,\n 'Arcade;Action & Adventure': 0.12409747292418773,\n 'Entertainment;Action & Adventure': 0.033844765342960284,\n 'Art & Design;Action & Adventure': 0.01128158844765343,\n 'Puzzle;Action & Adventure': 0.033844765342960284,\n 'Education;Action & Adventure': 0.033844765342960284,\n 'Strategy;Action & Adventure': 0.01128158844765343,\n 'Music & Audio;Music & Video': 0.01128158844765343,\n 'Health & Fitness;Education': 0.01128158844765343,\n 'Board;Action & Adventure': 0.02256317689530686,\n 'Board;Brain Games': 0.078971119133574,\n 'Casual;Music & Video': 0.01128158844765343,\n 'Education;Music & Video': 0.033844765342960284,\n 'Role Playing;Pretend Play': 0.04512635379061372,\n 'Entertainment;Pretend Play': 0.02256317689530686,\n 'Medical': 3.531137184115524,\n 'Social': 2.6624548736462095,\n 'Shopping': 2.2450361010830324,\n 'Photography': 2.944494584837545,\n 'Travel & Local': 2.3240072202166067,\n 'Travel & Local;Action & Adventure': 0.01128158844765343,\n 'Tools': 8.449909747292418,\n 'Tools;Education': 0.01128158844765343,\n 'Personalization': 3.3167870036101084,\n 'Productivity': 3.892148014440433,\n 'Parenting': 0.4963898916967509,\n 'Parenting;Music & Video': 0.06768953068592057,\n 'Parenting;Education': 0.078971119133574,\n 'Parenting;Brain Games': 0.01128158844765343,\n 'Weather': 0.8009927797833934,\n 'Video Players & Editors': 1.7712093862815883,\n 'Video Players & Editors;Music & Video': 0.02256317689530686,\n 'Video Players & Editors;Creativity': 0.01128158844765343,\n 'News & Magazines': 2.7978339350180503,\n 'Maps & Navigation': 1.3989169675090252,\n 'Health & Fitness;Action & Adventure': 0.01128158844765343,\n 'Educational': 0.3722924187725632,\n 'Casino': 0.42870036101083037,\n 'Trivia;Education': 0.01128158844765343,\n 'Lifestyle;Education': 0.01128158844765343,\n 'Card;Action & Adventure': 0.01128158844765343,\n 'Books & Reference;Education': 0.01128158844765343,\n 'Simulation;Education': 0.01128158844765343,\n 'Puzzle;Education': 0.01128158844765343,\n 'Adventure;Education': 0.01128158844765343,\n 'Role Playing;Brain Games': 0.01128158844765343,\n 'Strategy;Education': 0.01128158844765343,\n 'Racing;Pretend Play': 0.01128158844765343,\n 'Communication;Creativity': 0.01128158844765343,\n 'Strategy;Creativity': 0.01128158844765343}"
          },
          "metadata": {}
        }
      ],
      "execution_count": 18
    },
    {
      "id": "3c540aa6-1ae8-48ac-a3b6-e69f1b79e2c4",
      "cell_type": "markdown",
      "source": "The display_table() function you see below does the following:\n\n* Takes in two parameters: dataset and index. Dataset will be a list of lists, and index will be an integer\n* Generates a frequency table using the freq_table() function\n* Transforms the frequency table into a list of tuples, then sorts the list in a descending order\n* Prints the entries of the frequency table in descending order\n",
      "metadata": {}
    },
    {
      "id": "18641092-37df-4443-987c-73ce4b8775f1",
      "cell_type": "code",
      "source": "def display_table(dataset, index):\n    table = freq_table(dataset, index)\n    table_display = []\n    for key in table:\n        key_val_as_tuple = (table[key], key)\n        table_display.append(key_val_as_tuple)\n\n    table_sorted = sorted(table_display, reverse = True)\n    for entry in table_sorted:\n        print(entry[1], ':', entry[0])",
      "metadata": {
        "trusted": true
      },
      "outputs": [],
      "execution_count": 19
    },
    {
      "id": "d58022b4-9768-4f93-af0d-20865a227a4d",
      "cell_type": "markdown",
      "source": "Using the newly defined display_table() function to analyse prime_genre (iOS data), Genres (android) and Category (android). ",
      "metadata": {}
    },
    {
      "id": "42e89bc3-dc56-4e28-aac3-e172758f7864",
      "cell_type": "code",
      "source": "#prime_genre from iOS dataset\ndisplay_table(ios_final,11)\n",
      "metadata": {
        "trusted": true,
        "scrolled": true
      },
      "outputs": [
        {
          "name": "stdout",
          "output_type": "stream",
          "text": "Games : 58.16263190564867\nEntertainment : 7.883302296710118\nPhoto & Video : 4.9658597144630665\nEducation : 3.662321539416512\nSocial Networking : 3.2898820608317814\nShopping : 2.60707635009311\nUtilities : 2.5139664804469275\nSports : 2.1415270018621975\nMusic : 2.0484171322160147\nHealth & Fitness : 2.0173805090006205\nProductivity : 1.7380509000620732\nLifestyle : 1.5828677839851024\nNews : 1.3345747982619491\nTravel : 1.2414649286157666\nFinance : 1.1173184357541899\nWeather : 0.8690254500310366\nFood & Drink : 0.8069522036002483\nReference : 0.5586592178770949\nBusiness : 0.5276225946617008\nBook : 0.4345127250155183\nNavigation : 0.186219739292365\nMedical : 0.186219739292365\nCatalogs : 0.12414649286157665\n"
        }
      ],
      "execution_count": 20
    },
    {
      "id": "4cb70171-2cd0-45ea-8268-fc461fc1c9a7",
      "cell_type": "markdown",
      "source": "Top three genres of apps in Apple store are:\n\n* Games 58%\n* Entertainment 8%\n* Photo & Video 5%\n\nGames are the dominant app that Apple users are using. All top three app genres are for entertainment.\n\nBuilding a game related app would attract more users compared to other genres. ",
      "metadata": {}
    },
    {
      "id": "269988c8-bf2a-4bd4-adc8-e26d8d15dc95",
      "cell_type": "code",
      "source": "#Genres from Android dataset\ndisplay_table(android_final,1)\n",
      "metadata": {
        "trusted": true
      },
      "outputs": [
        {
          "name": "stdout",
          "output_type": "stream",
          "text": "FAMILY : 18.907942238267147\nGAME : 9.724729241877256\nTOOLS : 8.461191335740072\nBUSINESS : 4.591606498194946\nLIFESTYLE : 3.9034296028880866\nPRODUCTIVITY : 3.892148014440433\nFINANCE : 3.7003610108303246\nMEDICAL : 3.531137184115524\nSPORTS : 3.395758122743682\nPERSONALIZATION : 3.3167870036101084\nCOMMUNICATION : 3.2378158844765346\nHEALTH_AND_FITNESS : 3.0798736462093865\nPHOTOGRAPHY : 2.944494584837545\nNEWS_AND_MAGAZINES : 2.7978339350180503\nSOCIAL : 2.6624548736462095\nTRAVEL_AND_LOCAL : 2.33528880866426\nSHOPPING : 2.2450361010830324\nBOOKS_AND_REFERENCE : 2.1435018050541514\nDATING : 1.861462093862816\nVIDEO_PLAYERS : 1.7937725631768955\nMAPS_AND_NAVIGATION : 1.3989169675090252\nFOOD_AND_DRINK : 1.2409747292418771\nEDUCATION : 1.1620036101083033\nENTERTAINMENT : 0.9589350180505415\nLIBRARIES_AND_DEMO : 0.9363718411552346\nAUTO_AND_VEHICLES : 0.9250902527075812\nHOUSE_AND_HOME : 0.8235559566787004\nWEATHER : 0.8009927797833934\nEVENTS : 0.7107400722021661\nPARENTING : 0.6543321299638989\nART_AND_DESIGN : 0.6430505415162455\nCOMICS : 0.6204873646209386\nBEAUTY : 0.5979241877256317\n"
        }
      ],
      "execution_count": 21
    },
    {
      "id": "5d5431ad-de13-4a21-a74d-175c1b28e9c7",
      "cell_type": "markdown",
      "source": "Top three genres of apps in Android store are:\n\n* Family 19%\n* Game 10%\n* Tools 8%",
      "metadata": {}
    },
    {
      "id": "35f54656-1aa7-4ba6-b1c0-3a5e38c6f6e1",
      "cell_type": "code",
      "source": "#Category from Android dataset\ndisplay_table(android_final,9)\n",
      "metadata": {
        "trusted": true
      },
      "outputs": [
        {
          "name": "stdout",
          "output_type": "stream",
          "text": "Tools : 8.449909747292418\nEntertainment : 6.069494584837545\nEducation : 5.347472924187725\nBusiness : 4.591606498194946\nProductivity : 3.892148014440433\nLifestyle : 3.892148014440433\nFinance : 3.7003610108303246\nMedical : 3.531137184115524\nSports : 3.463447653429603\nPersonalization : 3.3167870036101084\nCommunication : 3.2378158844765346\nAction : 3.1024368231046933\nHealth & Fitness : 3.0798736462093865\nPhotography : 2.944494584837545\nNews & Magazines : 2.7978339350180503\nSocial : 2.6624548736462095\nTravel & Local : 2.3240072202166067\nShopping : 2.2450361010830324\nBooks & Reference : 2.1435018050541514\nSimulation : 2.0419675090252705\nDating : 1.861462093862816\nArcade : 1.8501805054151623\nVideo Players & Editors : 1.7712093862815883\nCasual : 1.7599277978339352\nMaps & Navigation : 1.3989169675090252\nFood & Drink : 1.2409747292418771\nPuzzle : 1.128158844765343\nRacing : 0.9927797833935018\nRole Playing : 0.9363718411552346\nLibraries & Demo : 0.9363718411552346\nAuto & Vehicles : 0.9250902527075812\nStrategy : 0.9138086642599278\nHouse & Home : 0.8235559566787004\nWeather : 0.8009927797833934\nEvents : 0.7107400722021661\nAdventure : 0.6768953068592057\nComics : 0.6092057761732852\nBeauty : 0.5979241877256317\nArt & Design : 0.5979241877256317\nParenting : 0.4963898916967509\nCard : 0.45126353790613716\nCasino : 0.42870036101083037\nTrivia : 0.41741877256317694\nEducational;Education : 0.39485559566787\nBoard : 0.3835740072202166\nEducational : 0.3722924187725632\nEducation;Education : 0.33844765342960287\nWord : 0.2594765342960289\nCasual;Pretend Play : 0.236913357400722\nMusic : 0.2030685920577617\nRacing;Action & Adventure : 0.16922382671480143\nPuzzle;Brain Games : 0.16922382671480143\nEntertainment;Music & Video : 0.16922382671480143\nCasual;Brain Games : 0.13537906137184114\nCasual;Action & Adventure : 0.13537906137184114\nArcade;Action & Adventure : 0.12409747292418773\nAction;Action & Adventure : 0.10153429602888085\nEducational;Pretend Play : 0.09025270758122744\nSimulation;Action & Adventure : 0.078971119133574\nParenting;Education : 0.078971119133574\nEntertainment;Brain Games : 0.078971119133574\nBoard;Brain Games : 0.078971119133574\nParenting;Music & Video : 0.06768953068592057\nEducational;Brain Games : 0.06768953068592057\nCasual;Creativity : 0.06768953068592057\nArt & Design;Creativity : 0.06768953068592057\nEducation;Pretend Play : 0.056407942238267145\nRole Playing;Pretend Play : 0.04512635379061372\nEducation;Creativity : 0.04512635379061372\nRole Playing;Action & Adventure : 0.033844765342960284\nPuzzle;Action & Adventure : 0.033844765342960284\nEntertainment;Creativity : 0.033844765342960284\nEntertainment;Action & Adventure : 0.033844765342960284\nEducational;Creativity : 0.033844765342960284\nEducational;Action & Adventure : 0.033844765342960284\nEducation;Music & Video : 0.033844765342960284\nEducation;Brain Games : 0.033844765342960284\nEducation;Action & Adventure : 0.033844765342960284\nAdventure;Action & Adventure : 0.033844765342960284\nVideo Players & Editors;Music & Video : 0.02256317689530686\nSports;Action & Adventure : 0.02256317689530686\nSimulation;Pretend Play : 0.02256317689530686\nPuzzle;Creativity : 0.02256317689530686\nMusic;Music & Video : 0.02256317689530686\nEntertainment;Pretend Play : 0.02256317689530686\nCasual;Education : 0.02256317689530686\nBoard;Action & Adventure : 0.02256317689530686\nVideo Players & Editors;Creativity : 0.01128158844765343\nTrivia;Education : 0.01128158844765343\nTravel & Local;Action & Adventure : 0.01128158844765343\nTools;Education : 0.01128158844765343\nStrategy;Education : 0.01128158844765343\nStrategy;Creativity : 0.01128158844765343\nStrategy;Action & Adventure : 0.01128158844765343\nSimulation;Education : 0.01128158844765343\nRole Playing;Brain Games : 0.01128158844765343\nRacing;Pretend Play : 0.01128158844765343\nPuzzle;Education : 0.01128158844765343\nParenting;Brain Games : 0.01128158844765343\nMusic & Audio;Music & Video : 0.01128158844765343\nLifestyle;Pretend Play : 0.01128158844765343\nLifestyle;Education : 0.01128158844765343\nHealth & Fitness;Education : 0.01128158844765343\nHealth & Fitness;Action & Adventure : 0.01128158844765343\nEntertainment;Education : 0.01128158844765343\nCommunication;Creativity : 0.01128158844765343\nComics;Creativity : 0.01128158844765343\nCasual;Music & Video : 0.01128158844765343\nCard;Action & Adventure : 0.01128158844765343\nBooks & Reference;Education : 0.01128158844765343\nArt & Design;Pretend Play : 0.01128158844765343\nArt & Design;Action & Adventure : 0.01128158844765343\nArcade;Pretend Play : 0.01128158844765343\nAdventure;Education : 0.01128158844765343\n"
        }
      ],
      "execution_count": 22
    },
    {
      "id": "448fd562-2afd-41eb-b5c1-81b891244cf5",
      "cell_type": "markdown",
      "source": "Top three Category of apps in Android store are:\n* Tools 8%\n* Entertainment 6%\n* Education 5%\n\nAcross Android store, although games are still popular, there isn't a significant domination of gaming & entertainment apps like the Apple store. \n\nAndroid users seem to be after more practical apps that are family friendly and can be used as a tool or educate them on things. \n\nFurther investigation reveals that Family apps are actually games that are designed for kids. Hence, gaming is still the dominant genre for android as well as apple. ",
      "metadata": {}
    },
    {
      "id": "23407534-d637-45fd-974f-394dbe4397d9",
      "cell_type": "markdown",
      "source": "## Analysis: Most popular Apps by Genre on the App Store",
      "metadata": {}
    },
    {
      "id": "77d8d063-15a0-4928-bc36-ad25a5db84e6",
      "cell_type": "markdown",
      "source": "The frequency tables we analyzed on the previous screen showed us that apps designed for fun dominate the App Store, while Google Play shows a more balanced landscape of both practical and fun apps. Now, we'd like to determine the kind of apps with the most users.\n\nOne way to find out what genres are the most popular (have the most users) is to calculate the average number of installs for each app genre. For the Google Play data set, we can find this information in the Installs column, but this information is missing for the App Store data set. As a workaround, we'll take the total number of user ratings as a proxy, which we can find in the rating_count_tot column.\n\nLet's start with calculating the average number of user ratings per app genre on the App Store. To do that, we'll need to do the following:\n\nIsolate the apps of each genre\nAdd up the user ratings for the apps of that genre\nDivide the sum by the number of apps belonging to that genre (not by the total number of apps)",
      "metadata": {}
    },
    {
      "id": "b6c152cf-4c1d-48a8-9c2d-93a809f64c6a",
      "cell_type": "code",
      "source": "genre_ios = freq_table(ios_final,11)\n\nfor genre in genre_ios:\n    total = 0\n    len_genre = 0\n    for app in ios_final:\n        genre_app = app[11]\n        if genre_app == genre:\n            n_rating = float(app[5])\n            total += n_rating\n            len_genre += 1\n    avg_n_rating = total / len_genre\n    print(genre, ':', avg_n_rating)\n\n\n",
      "metadata": {
        "trusted": true
      },
      "outputs": [
        {
          "name": "stdout",
          "output_type": "stream",
          "text": "Social Networking : 71548.34905660378\nPhoto & Video : 28441.54375\nGames : 22788.6696905016\nMusic : 57326.530303030304\nReference : 74942.11111111111\nHealth & Fitness : 23298.015384615384\nWeather : 52279.892857142855\nUtilities : 18684.456790123455\nTravel : 28243.8\nShopping : 26919.690476190477\nNews : 21248.023255813954\nNavigation : 86090.33333333333\nLifestyle : 16485.764705882353\nEntertainment : 14029.830708661417\nFood & Drink : 33333.92307692308\nSports : 23008.898550724636\nBook : 39758.5\nFinance : 31467.944444444445\nEducation : 7003.983050847458\nProductivity : 21028.410714285714\nBusiness : 7491.117647058823\nCatalogs : 4004.0\nMedical : 612.0\n"
        }
      ],
      "execution_count": 23
    },
    {
      "id": "a426083b-5585-4227-810f-86daf0200026",
      "cell_type": "markdown",
      "source": "On average Navigation apps received the highest reviews even though Navigation apps are a small portion of the app store. This could be due to usefulness of the Navigation apps along with Push Review requests from the app itself.\n    ",
      "metadata": {}
    },
    {
      "id": "fd638f57-d910-4d9c-a615-d41f6fd94711",
      "cell_type": "code",
      "source": "for app in ios_final:\n    if app[11] == 'Navigation':\n        print(app[1], ':', app[5]) # print name and number of ratings",
      "metadata": {
        "trusted": true
      },
      "outputs": [
        {
          "name": "stdout",
          "output_type": "stream",
          "text": "Waze - GPS Navigation, Maps & Real-time Traffic : 345046\nGoogle Maps - Navigation & Transit : 154911\nGeocaching® : 12811\nCoPilot GPS – Car Navigation & Offline Maps : 3582\nImmobilienScout24: Real Estate Search in Germany : 187\nRailway Route Search : 5\n"
        }
      ],
      "execution_count": 24
    },
    {
      "id": "753ce290-2821-407e-a9e5-67dfd60c9e0f",
      "cell_type": "markdown",
      "source": "Further investigation reveals that majority of the reviews are coming from Waze and Google Maps.",
      "metadata": {}
    },
    {
      "id": "3036de9b-e228-42e0-9a04-2b98aab9cf57",
      "cell_type": "markdown",
      "source": "## Analysis: Most popular Apps by Genre on the Android Store",
      "metadata": {}
    },
    {
      "id": "7d194cbc-4959-4640-86b3-3fe39edc31ca",
      "cell_type": "markdown",
      "source": "On the previous screen, we came up with an app profile recommendation for the App Store based on the number of user ratings. We have data about the number of installs for the Google Play market, so we should be able to get a clearer picture about genre popularity. However, the install numbers don't seem precise enough — we can see that most values are open-ended (100+, 1,000+, 5,000+, etc.):",
      "metadata": {}
    },
    {
      "id": "11ee6761-0105-4383-9a42-dab54a3534c2",
      "cell_type": "code",
      "source": "display_table(android_final,5) # the Installs columns",
      "metadata": {
        "trusted": true
      },
      "outputs": [
        {
          "name": "stdout",
          "output_type": "stream",
          "text": "1,000,000+ : 15.726534296028879\n100,000+ : 11.552346570397113\n10,000,000+ : 10.548285198555957\n10,000+ : 10.198555956678701\n1,000+ : 8.393501805054152\n100+ : 6.915613718411552\n5,000,000+ : 6.825361010830325\n500,000+ : 5.561823104693141\n50,000+ : 4.7721119133574\n5,000+ : 4.512635379061372\n10+ : 3.5424187725631766\n500+ : 3.2490974729241873\n50,000,000+ : 2.3014440433213\n100,000,000+ : 2.1322202166064983\n50+ : 1.917870036101083\n5+ : 0.78971119133574\n1+ : 0.5076714801444043\n500,000,000+ : 0.2707581227436823\n1,000,000,000+ : 0.22563176895306858\n0+ : 0.04512635379061372\n0 : 0.01128158844765343\n"
        }
      ],
      "execution_count": 25
    },
    {
      "id": "eee4ddc3-9fb0-4b6d-a016-43d054ac70a3",
      "cell_type": "markdown",
      "source": "For instance, we don't know whether an app with 100,000+ installs has 100,000 installs, 200,000, or 350,000. However, we don't need very precise data for our purposes — we only want to find out which app genres attract the most users.\n\nWe're going to leave the numbers as they are, which means that we'll consider that an app with 100,000+ installs has 100,000 installs, and an app with 1,000,000+ installs has 1,000,000 installs, and so on. To perform computations, however, we'll need to convert each install number from a string to a float. This means we need to remove the commas and the plus characters, or the conversion will fail and cause an error.",
      "metadata": {}
    },
    {
      "id": "786a81ac-be8a-4e9f-a68c-245043f493dd",
      "cell_type": "code",
      "source": "category_android = freq_table(android_final,1)\n\nfor category in category_android:\n    total = 0\n    len_category = 0\n    for app in android_final:\n        category_app = app[1]\n        if category_app == category:\n            n_installs = app[5]\n            n_installs = n_installs.replace(',','')\n            n_installs = n_installs.replace('+','')\n            total += float(n_installs)\n            len_category += 1\n    avg_n_installs = round(total / len_category)\n    print(f\"{category} : {avg_n_installs:,}\")\n\n        ",
      "metadata": {
        "trusted": true
      },
      "outputs": [
        {
          "name": "stdout",
          "output_type": "stream",
          "text": "ART_AND_DESIGN : 1,986,335\nAUTO_AND_VEHICLES : 647,318\nBEAUTY : 513,152\nBOOKS_AND_REFERENCE : 8,767,812\nBUSINESS : 1,712,290\nCOMICS : 817,657\nCOMMUNICATION : 38,456,119\nDATING : 854,029\nEDUCATION : 1,833,495\nENTERTAINMENT : 11,640,706\nEVENTS : 253,542\nFINANCE : 1,387,692\nFOOD_AND_DRINK : 1,924,898\nHEALTH_AND_FITNESS : 4,188,822\nHOUSE_AND_HOME : 1,331,541\nLIBRARIES_AND_DEMO : 638,504\nLIFESTYLE : 1,437,816\nGAME : 15,588,016\nFAMILY : 3,695,642\nMEDICAL : 120,551\nSOCIAL : 23,253,652\nSHOPPING : 7,036,877\nPHOTOGRAPHY : 17,840,110\nSPORTS : 3,638,640\nTRAVEL_AND_LOCAL : 13,984,078\nTOOLS : 10,801,391\nPERSONALIZATION : 5,201,483\nPRODUCTIVITY : 16,787,331\nPARENTING : 542,604\nWEATHER : 5,074,486\nVIDEO_PLAYERS : 24,727,872\nNEWS_AND_MAGAZINES : 9,549,178\nMAPS_AND_NAVIGATION : 4,056,942\n"
        }
      ],
      "execution_count": 35
    },
    {
      "id": "4b5de7b1-2596-4ab6-b21a-2866ae3b95f5",
      "cell_type": "markdown",
      "source": "On Android, Communication apps had the greatest average installs at 38 million installs.",
      "metadata": {}
    },
    {
      "id": "ee69943a-41e9-48ef-8e0e-3416a432c8ab",
      "cell_type": "code",
      "source": "for app in android_final:\n    if app[1] == 'COMMUNICATION':\n        print(f\"{app[0]} : {int(app[5].replace(',','').replace('+','')):,}\") # print name and number of ratings",
      "metadata": {
        "trusted": true
      },
      "outputs": [
        {
          "name": "stdout",
          "output_type": "stream",
          "text": "WhatsApp Messenger : 1,000,000,000\nMessenger for SMS : 10,000,000\nMy Tele2 : 5,000,000\nimo beta free calls and text : 100,000,000\nContacts : 50,000,000\nCall Free – Free Call : 5,000,000\nWeb Browser & Explorer : 5,000,000\nBrowser 4G : 10,000,000\nMegaFon Dashboard : 10,000,000\nZenUI Dialer & Contacts : 10,000,000\nCricket Visual Voicemail : 10,000,000\nTracFone My Account : 1,000,000\nXperia Link™ : 10,000,000\nTouchPal Keyboard - Fun Emoji & Android Keyboard : 10,000,000\nSkype Lite - Free Video Call & Chat : 5,000,000\nMy magenta : 1,000,000\nAndroid Messages : 100,000,000\nGoogle Duo - High Quality Video Calls : 500,000,000\nSeznam.cz : 1,000,000\nAntillean Gold Telegram (original version) : 100,000\nAT&T Visual Voicemail : 10,000,000\nGMX Mail : 10,000,000\nOmlet Chat : 10,000,000\nMy Vodacom SA : 5,000,000\nMicrosoft Edge : 5,000,000\nMessenger – Text and Video Chat for Free : 1,000,000,000\nimo free video calls and chat : 500,000,000\nCalls & Text by Mo+ : 5,000,000\nfree video calls and chat : 50,000,000\nSkype - free IM & video calls : 1,000,000,000\nWho : 100,000,000\nGO SMS Pro - Messenger, Free Themes, Emoji : 100,000,000\nMessaging+ SMS, MMS Free : 1,000,000\nchomp SMS : 10,000,000\nGlide - Video Chat Messenger : 10,000,000\nText SMS : 10,000,000\nTalkray - Free Calls & Texts : 10,000,000\nLINE: Free Calls & Messages : 500,000,000\nGroupMe : 10,000,000\nmysms SMS Text Messaging Sync : 1,000,000\n2ndLine - Second Phone Number : 1,000,000\nGoogle Chrome: Fast & Secure : 1,000,000,000\nFirefox Browser fast & private : 100,000,000\nNinesky Browser : 1,000,000\nDolphin Browser - Fast, Private & Adblock🐬 : 50,000,000\nUC Browser - Fast Download Private & Secure : 500,000,000\nGhostery Privacy Browser : 1,000,000\nInBrowser - Incognito Browsing : 1,000,000\nLightning Web Browser : 500,000\nWeb Browser : 500,000\nContacts+ : 10,000,000\nExDialer - Dialer & Contacts : 10,000,000\nPHONE for Google Voice & GTalk : 1,000,000\nSafest Call Blocker : 1,000,000\nFull Screen Caller ID : 5,000,000\nHiya - Caller ID & Block : 10,000,000\nMr. Number-Block calls & spam : 10,000,000\nShould I Answer? : 1,000,000\nRocketDial Dialer & Contacts : 1,000,000\nCIA - Caller ID & Call Blocker : 5,000,000\nCalls Blacklist - Call Blocker : 10,000,000\nCall Control - Call Blocker : 5,000,000\nTrue Contact - Real Caller ID : 1,000,000\nVideo Caller Id : 1,000,000\nSync.ME – Caller ID & Block : 5,000,000\nBurner - Free Phone Number : 1,000,000\nCaller ID + : 1,000,000\nGmail : 1,000,000,000\nK-9 Mail : 5,000,000\nmyMail – Email for Hotmail, Gmail and Outlook Mail : 10,000,000\nEmail TypeApp - Mail App : 1,000,000\nAll Email Providers : 1,000,000\nNewton Mail - Email App for Gmail, Outlook, IMAP : 1,000,000\nGO Notifier : 10,000,000\nMail.Ru - Email App : 50,000,000\nMail1Click - Secure Mail : 10,000\nDaum Mail - Next Mail : 5,000,000\nmail.com mail : 1,000,000\nSolMail - All-in-One email app : 500,000\nHangouts : 1,000,000,000\nVonage Mobile® Call Video Text : 1,000,000\nJusTalk - Free Video Calls and Fun Video Chat : 5,000,000\nAzar : 50,000,000\nLokLok: Draw on a Lock Screen : 500,000\nDiscord - Chat for Gamers : 10,000,000\nMessenger Lite: Free Calls & Messages : 100,000,000\nAntennaPict β : 1,000,000\nTalkatone: Free Texts, Calls & Phone Number : 10,000,000\nKik : 100,000,000\nK-@ Mail - Email App : 100,000\nKakaoTalk: Free Calls & Text : 100,000,000\nK-9 Material (unofficial) : 5,000\nM star Dialer : 100,000\nFree WiFi Connect : 10,000,000\nm:go BiH : 10,000\nN-Com Wizard : 50,000\nOpera Mini - fast web browser : 100,000,000\nOpera Browser: Fast and Secure : 100,000,000\nOpera Mini browser beta : 10,000,000\nPsiphon Pro - The Internet Freedom VPN : 10,000,000\nICQ — Video Calls & Chat Messenger : 10,000,000\nTelegram : 100,000,000\nAT&T Messages for Tablet : 1,000,000\nT-Mobile DIGITS : 100,000\nTruecaller: Caller ID, SMS spam blocking & Dialer : 100,000,000\nPortable Wi-Fi hotspot : 10,000,000\nAT&T Call Protect : 5,000,000\nU - Webinars, Meetings & Messenger : 500,000\nUC Browser Mini -Tiny Fast Private & Secure : 100,000,000\n/u/app : 10,000\n[verify-U] VideoIdent : 10,000\nViber Messenger : 500,000,000\nWeChat : 100,000,000\nWhatsApp Business : 10,000,000\nWhatsCall Free Global Phone Call App & Cheap Calls : 10,000,000\nX Browser : 50,000\nYahoo Mail – Stay Organized : 100,000,000\nFree Adblocker Browser - Adblock & Popup Blocker : 10,000,000\nAdblock Browser for Android : 10,000,000\nCM Browser - Ad Blocker , Fast Download , Privacy : 50,000,000\nAdblock Plus for Samsung Internet - Browse safe. : 1,000,000\nAd Blocker Turbo - Adblocker Browser : 10,000\nBrave Browser: Fast AdBlocker : 5,000,000\nAG Contacts, Lite edition : 5,000\nOklahoma Ag Co-op Council : 10\nBee'ah Employee App : 100\ntournaments and more.aj.2 : 100\nAj.Petra : 100\nAK Phone : 5,000\nPlacarTv Futebol Ao Vivo : 100,000\nWiFi Access Point (hotspot) : 100,000\nAccess Point Names : 10,000\nPuffin Web Browser : 10,000,000\nClanHQ : 10,000\nEar Agent: Super Hearing : 5,000,000\nGoogle Voice : 10,000,000\nGoogle Allo : 10,000,000\nAU Call Blocker - Block Unwanted Calls Texts 2018 : 1,000\nBaby Monitor AV : 100,000\nAV Phone : 1,000\nAW - free video calls and chat : 1,000,000\nKatalogen.ax : 100\nAZ Browser. Private & Download : 100,000\nBA SALES : 1\nBD Data Plan (3G & 4G) : 500,000\nBD Internet Packages (Updated) : 50,000\nBD Dialer : 10,000\nBD Live Call : 5,000\nBest Browser BD social networking : 10\nTraffic signs BD : 500\nBF Browser by Betfilter - Stop Gambling Today! : 10,000\nMy BF App : 50,000\nBH Mail : 1,000\nZalo – Video Call : 50,000,000\nBJ - Confidential : 10\nBK Chat : 1,000\nOf the wall Arapaho bk : 5\nAC-BL : 50\nBBM - Free Calls & Messages : 100,000,000\nDMR BrandMeister Tool : 10,000\nBBMoji - Your personalized BBM Stickers : 1,000,000\nBN MALLORCA Radio : 1,000\nBQ Partners : 1,000\nBS-Mobile : 50\nATC Unico BS : 500\nBT One Voice mobile access : 5,000\nBT Messenger : 50,000\nBT One Phone Mobile App : 10,000\nSW-100.tch by Callstel : 1,000,000\nBT MeetMe with Dolby Voice : 100,000\nBluetooth Auto Connect : 5,000,000\nAudioBT: BT audio GPS/SMS/Text : 50,000\nBV : 100\nFeel Performer : 10,000\nTiny Call Confirm : 1,000,000\nCB Radio Chat - for friends! : 1,000,000\nCB On Mobile : 100,000\nVirtual Walkie Talkie : 1,000,000\nChannel 19 : 100,000\nCb browser : 50\nCF Chat: Connecting Friends : 100\nretteMi.ch : 5,000\nChrome Dev : 5,000,000\nCJ Browser - Fast & Private : 100\nCJ DVD Rentals : 100\nCK Call NEW : 10\nCM Transfer - Share any files with friends nearby : 5,000,000\nmail.co.uk Mail : 5,000\nClanPlay: Community and Tools for Gamers : 1,000,000\nCQ-Mobile : 1,000\nCQ-Alert : 500\nQRZ Assistant : 100,000\nPocket Prefix Plus : 10,000\nHam Radio Prefixes : 10,000\nCS Customizer : 1,000\nCS Browser | #1 & BEST BROWSER : 1,000\nCS Browser Beta : 5,000\nMy Vodafone (GR) : 1,000,000\nIZ2UUF Morse Koch CW : 50,000\nC W Browser : 100\nCW Bluetooth SPP : 100\nCW BLE Peripheral Simulator : 500\nMorse Code Reader : 100,000\nLearn Morse Code - G0HYN Learn Morse : 5,000\nRing : 10,000\nHyundai CX Conference : 50\nCy Messenger : 100\nAmadeus GR & CY : 100\nHlášenírozhlasu.cz : 10\nSMS Sender - sluzba.cz : 1,000\nWEB.DE Mail : 10,000,000\nYour Freedom VPN Client : 5,000,000\nCallApp: Caller ID, Blocker & Phone Call Recorder : 10,000,000\nRádio Sol Nascente DF : 500\nDG Card : 100\nWhoscall - Caller ID & Block : 10,000,000\nDK Browser : 10\ncluster.dk : 1,000\nDK TEL Dialer : 50\nDM for WhatsApp : 5,000\nDM Talk New : 5,000\nDM - The Offical Messaging App : 10\nDM Tracker : 1,000\nCall Blocker & Blacklist : 1,000\nReadyOp DT : 1,000\nDU Browser—Browse fast & fun : 10,000,000\nCaller ID & Call Block - DU Caller : 5,000,000\nBlueDV AMBE : 1,000\nDW Contacts & Phone & Dialer : 1,000,000\nDeaf World DW : 10,000\nHam DX Cluster & Spots Finder : 5,000\nMircules DX Cluster Lite : 5,000\n3G DZ Configuration : 50,000\nchat dz : 100\nlove sms good morning : 5,000\nGoodbox - Mega App : 100,000\nCall Blocker - Blacklist, SMS Blocker : 1,000,000\n[EF]ShoutBox : 100\nEg Call : 10,000\nei : 10\nEJ messenger : 10\nEk IRA : 10\nOrfox: Tor Browser for Android : 10,000,000\nEO Mumbai : 10\nEP RSS Reader : 100\nVoxer Walkie Talkie Messenger : 10,000,000\nES-1 : 500\nHangouts Dialer - Call Phones : 10,000,000\nEU Council : 1,000\nCouncil Voting Calculator : 5,000\nHave your say on Europe : 500\nProgrami podrške EU : 100\nInbox.eu : 10,000\nWeb Browser for Android : 1,000,000\nEverbridge : 100,000\nBest Auto Call Recorder Free : 500\nEZ Wifi Notification : 10,000\nTest Server SMS FA : 5\nLite for Facebook Messenger : 1,000,000\nFC Browser - Focus Privacy Browser : 1,000\nEHiN-FH conferenceapp : 100\nCarpooling FH Hagenberg : 100\nWi-Fi Auto-connect : 1,000,000\nTalkie - Wi-Fi Calling, Chats, File Sharing : 500,000\nWeFi - Free Fast WiFi Connect & Find Wi-Fi Map : 1,000,000\nSat-Fi : 5,000\nPortable Wi-Fi hotspot Free : 100,000\nTownWiFi | Wi-Fi Everywhere : 500,000\nJazz Wi-Fi : 10,000\nSat-Fi Voice : 1,000\nFree Wi-fi HotspoT : 50,000\nFN Web Radio : 10\nFNH Payment Info : 10\nMARKET FO : 100\nFO OP St-Nazaire : 100\nFO SODEXO : 100\nFO RCBT : 100\nFO Interim : 100\nFO PSA Sept-Fons : 100\nFO AIRBUS TLSE : 1,000\nFO STELIA Méaulte : 100\nFO AIRBUS Nantes : 100\nFirefox Focus: The privacy browser : 1,000,000\nFP Connect : 100\nFreedomPop Messaging Phone/SIM : 500,000\nFP Live : 10\nHipChat - beta version : 50,000\n"
        }
      ],
      "execution_count": 46
    },
    {
      "id": "a7975a87-7bbb-4ea2-a9a3-618f7f4f586b",
      "cell_type": "markdown",
      "source": "The market is dominated by handful of apps with more than billion installs, which are: WhatsApp, Facebook Messenger, Skype, Google Chrome, Gmail, and Hangouts.",
      "metadata": {}
    },
    {
      "id": "b442dfcd-c2a8-4c0a-8399-abc26ebd0645",
      "cell_type": "markdown",
      "source": "## Conclusions",
      "metadata": {}
    },
    {
      "id": "34d3e9be-0883-4dc4-81b7-3e6ae74e4c31",
      "cell_type": "markdown",
      "source": "In this project we looked at what apps are popular in App Store and Google Play store, with a goal of identifying the best genre / category of apps that could generate revenue through advertisement.\n\nFor App store, market is dominated by Navigation apps and for Google Play store, Communication apps had the highest usage. \n\nFew players greatly skew the results and it will be a challenge to produce an app that can compete against them. \n\nFurther analysis is required to delve into a niche within these apps to provide users that these popular apps do not cover.",
      "metadata": {}
    }
  ]
}